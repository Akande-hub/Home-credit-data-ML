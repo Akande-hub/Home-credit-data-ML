{
 "cells": [
  {
   "cell_type": "markdown",
   "id": "49065c8e",
   "metadata": {},
   "source": [
    "Given a reduced version of the home credit data (attached in the form of a CSV\n",
    "file). The full data [Gro18] can be accessed at the following url:https://www.kaggle.com/code/thomasseleck/extensive-eda-for-all-features-of-home-credit-data/data. This has 23 columns,\n",
    "with the first 22 representing features and the last one being the target variable (0 or 1). Note that\n",
    "this is a highly imbalanced dataset. The following are the required tasks (problem statement).\n",
    "Some of the columns contain non-numeric (can be categorical) data. The choice is left to the user\n",
    "to use/drop them (or any column for that matter). Lastly, please split (using any standard random\n",
    "splitting routine) the given data in an 80-20 or 70-30 fashion (train-test ratio)."
   ]
  },
  {
   "cell_type": "code",
   "execution_count": 1,
   "id": "60ecedbe",
   "metadata": {},
   "outputs": [],
   "source": [
    "import matplotlib.pyplot as plt\n",
    "import numpy as np\n",
    "import pandas as pd\n",
    "import seaborn as sns\n",
    "from sklearn.linear_model import LogisticRegression\n",
    "from sklearn.model_selection import train_test_split\n",
    "from sklearn.metrics import *\n",
    "import warnings\n",
    "warnings.filterwarnings('ignore')"
   ]
  },
  {
   "cell_type": "markdown",
   "id": "c812a39b",
   "metadata": {},
   "source": [
    "# Reading the Dataset"
   ]
  },
  {
   "cell_type": "code",
   "execution_count": 2,
   "id": "9baae729",
   "metadata": {},
   "outputs": [],
   "source": [
    "cred = pd.read_csv(\"hcdr-rev.csv\")"
   ]
  },
  {
   "cell_type": "code",
   "execution_count": 3,
   "id": "eb0f3039",
   "metadata": {},
   "outputs": [
    {
     "data": {
      "text/html": [
       "<div>\n",
       "<style scoped>\n",
       "    .dataframe tbody tr th:only-of-type {\n",
       "        vertical-align: middle;\n",
       "    }\n",
       "\n",
       "    .dataframe tbody tr th {\n",
       "        vertical-align: top;\n",
       "    }\n",
       "\n",
       "    .dataframe thead th {\n",
       "        text-align: right;\n",
       "    }\n",
       "</style>\n",
       "<table border=\"1\" class=\"dataframe\">\n",
       "  <thead>\n",
       "    <tr style=\"text-align: right;\">\n",
       "      <th></th>\n",
       "      <th>SK_ID_CURR</th>\n",
       "      <th>AMT_REQ_CREDIT_BUREAU_WEEK</th>\n",
       "      <th>DAYS_LAST_PHONE_CHANGE</th>\n",
       "      <th>AMT_REQ_CREDIT_BUREAU_YEAR</th>\n",
       "      <th>DAYS_ID_PUBLISH</th>\n",
       "      <th>AMT_REQ_CREDIT_BUREAU_QRT</th>\n",
       "      <th>REGION_RATING_CLIENT</th>\n",
       "      <th>AMT_INCOME_TOTAL</th>\n",
       "      <th>EXT_SOURCE_3</th>\n",
       "      <th>AMT_REQ_CREDIT_BUREAU_DAY</th>\n",
       "      <th>...</th>\n",
       "      <th>AMT_ANNUITY</th>\n",
       "      <th>DAYS_REGISTRATION</th>\n",
       "      <th>AMT_GOODS_PRICE</th>\n",
       "      <th>DAYS_BIRTH</th>\n",
       "      <th>AMT_REQ_CREDIT_BUREAU_MON</th>\n",
       "      <th>NAME_INCOME_TYPE</th>\n",
       "      <th>EXT_SOURCE_1</th>\n",
       "      <th>AMT_REQ_CREDIT_BUREAU_HOUR</th>\n",
       "      <th>REG_CITY_NOT_WORK_CITY</th>\n",
       "      <th>TARGET</th>\n",
       "    </tr>\n",
       "  </thead>\n",
       "  <tbody>\n",
       "    <tr>\n",
       "      <th>0</th>\n",
       "      <td>130058</td>\n",
       "      <td>0</td>\n",
       "      <td>-434</td>\n",
       "      <td>2</td>\n",
       "      <td>-2161</td>\n",
       "      <td>0</td>\n",
       "      <td>2</td>\n",
       "      <td>202500.0</td>\n",
       "      <td>0.733815</td>\n",
       "      <td>0</td>\n",
       "      <td>...</td>\n",
       "      <td>35613.0</td>\n",
       "      <td>-2973</td>\n",
       "      <td>1350000.0</td>\n",
       "      <td>-9503</td>\n",
       "      <td>0</td>\n",
       "      <td>Commercial associate</td>\n",
       "      <td>0.635151</td>\n",
       "      <td>0</td>\n",
       "      <td>0</td>\n",
       "      <td>0</td>\n",
       "    </tr>\n",
       "    <tr>\n",
       "      <th>1</th>\n",
       "      <td>130059</td>\n",
       "      <td>0</td>\n",
       "      <td>-1610</td>\n",
       "      <td>0</td>\n",
       "      <td>-3818</td>\n",
       "      <td>0</td>\n",
       "      <td>1</td>\n",
       "      <td>135000.0</td>\n",
       "      <td>0.355639</td>\n",
       "      <td>0</td>\n",
       "      <td>...</td>\n",
       "      <td>49900.5</td>\n",
       "      <td>-4709</td>\n",
       "      <td>675000.0</td>\n",
       "      <td>-14652</td>\n",
       "      <td>0</td>\n",
       "      <td>Commercial associate</td>\n",
       "      <td>0.383777</td>\n",
       "      <td>0</td>\n",
       "      <td>0</td>\n",
       "      <td>0</td>\n",
       "    </tr>\n",
       "    <tr>\n",
       "      <th>2</th>\n",
       "      <td>130068</td>\n",
       "      <td>0</td>\n",
       "      <td>-205</td>\n",
       "      <td>2</td>\n",
       "      <td>-4958</td>\n",
       "      <td>0</td>\n",
       "      <td>2</td>\n",
       "      <td>225000.0</td>\n",
       "      <td>0.231439</td>\n",
       "      <td>0</td>\n",
       "      <td>...</td>\n",
       "      <td>9000.0</td>\n",
       "      <td>-3956</td>\n",
       "      <td>180000.0</td>\n",
       "      <td>-12418</td>\n",
       "      <td>0</td>\n",
       "      <td>Commercial associate</td>\n",
       "      <td>0.213944</td>\n",
       "      <td>0</td>\n",
       "      <td>1</td>\n",
       "      <td>0</td>\n",
       "    </tr>\n",
       "    <tr>\n",
       "      <th>3</th>\n",
       "      <td>130071</td>\n",
       "      <td>0</td>\n",
       "      <td>-263</td>\n",
       "      <td>3</td>\n",
       "      <td>-1631</td>\n",
       "      <td>0</td>\n",
       "      <td>1</td>\n",
       "      <td>112500.0</td>\n",
       "      <td>0.260856</td>\n",
       "      <td>0</td>\n",
       "      <td>...</td>\n",
       "      <td>13500.0</td>\n",
       "      <td>-7016</td>\n",
       "      <td>270000.0</td>\n",
       "      <td>-12948</td>\n",
       "      <td>0</td>\n",
       "      <td>Working</td>\n",
       "      <td>0.565716</td>\n",
       "      <td>0</td>\n",
       "      <td>1</td>\n",
       "      <td>0</td>\n",
       "    </tr>\n",
       "    <tr>\n",
       "      <th>4</th>\n",
       "      <td>130118</td>\n",
       "      <td>0</td>\n",
       "      <td>-2117</td>\n",
       "      <td>0</td>\n",
       "      <td>-3283</td>\n",
       "      <td>0</td>\n",
       "      <td>1</td>\n",
       "      <td>337500.0</td>\n",
       "      <td>0.646330</td>\n",
       "      <td>0</td>\n",
       "      <td>...</td>\n",
       "      <td>54283.5</td>\n",
       "      <td>-7594</td>\n",
       "      <td>1575000.0</td>\n",
       "      <td>-19719</td>\n",
       "      <td>3</td>\n",
       "      <td>Pensioner</td>\n",
       "      <td>0.517405</td>\n",
       "      <td>0</td>\n",
       "      <td>0</td>\n",
       "      <td>0</td>\n",
       "    </tr>\n",
       "  </tbody>\n",
       "</table>\n",
       "<p>5 rows × 26 columns</p>\n",
       "</div>"
      ],
      "text/plain": [
       "   SK_ID_CURR  AMT_REQ_CREDIT_BUREAU_WEEK  DAYS_LAST_PHONE_CHANGE  \\\n",
       "0      130058                           0                    -434   \n",
       "1      130059                           0                   -1610   \n",
       "2      130068                           0                    -205   \n",
       "3      130071                           0                    -263   \n",
       "4      130118                           0                   -2117   \n",
       "\n",
       "   AMT_REQ_CREDIT_BUREAU_YEAR  DAYS_ID_PUBLISH  AMT_REQ_CREDIT_BUREAU_QRT  \\\n",
       "0                           2            -2161                          0   \n",
       "1                           0            -3818                          0   \n",
       "2                           2            -4958                          0   \n",
       "3                           3            -1631                          0   \n",
       "4                           0            -3283                          0   \n",
       "\n",
       "   REGION_RATING_CLIENT  AMT_INCOME_TOTAL  EXT_SOURCE_3  \\\n",
       "0                     2          202500.0      0.733815   \n",
       "1                     1          135000.0      0.355639   \n",
       "2                     2          225000.0      0.231439   \n",
       "3                     1          112500.0      0.260856   \n",
       "4                     1          337500.0      0.646330   \n",
       "\n",
       "   AMT_REQ_CREDIT_BUREAU_DAY  ...  AMT_ANNUITY  DAYS_REGISTRATION  \\\n",
       "0                          0  ...      35613.0              -2973   \n",
       "1                          0  ...      49900.5              -4709   \n",
       "2                          0  ...       9000.0              -3956   \n",
       "3                          0  ...      13500.0              -7016   \n",
       "4                          0  ...      54283.5              -7594   \n",
       "\n",
       "   AMT_GOODS_PRICE  DAYS_BIRTH  AMT_REQ_CREDIT_BUREAU_MON  \\\n",
       "0        1350000.0       -9503                          0   \n",
       "1         675000.0      -14652                          0   \n",
       "2         180000.0      -12418                          0   \n",
       "3         270000.0      -12948                          0   \n",
       "4        1575000.0      -19719                          3   \n",
       "\n",
       "       NAME_INCOME_TYPE  EXT_SOURCE_1  AMT_REQ_CREDIT_BUREAU_HOUR  \\\n",
       "0  Commercial associate      0.635151                           0   \n",
       "1  Commercial associate      0.383777                           0   \n",
       "2  Commercial associate      0.213944                           0   \n",
       "3               Working      0.565716                           0   \n",
       "4             Pensioner      0.517405                           0   \n",
       "\n",
       "   REG_CITY_NOT_WORK_CITY  TARGET  \n",
       "0                       0       0  \n",
       "1                       0       0  \n",
       "2                       1       0  \n",
       "3                       1       0  \n",
       "4                       0       0  \n",
       "\n",
       "[5 rows x 26 columns]"
      ]
     },
     "execution_count": 3,
     "metadata": {},
     "output_type": "execute_result"
    }
   ],
   "source": [
    "cred.head()"
   ]
  },
  {
   "cell_type": "markdown",
   "id": "294a4133",
   "metadata": {},
   "source": [
    "# Statistical Summary of the dataset"
   ]
  },
  {
   "cell_type": "code",
   "execution_count": 4,
   "id": "0a8c5049",
   "metadata": {},
   "outputs": [
    {
     "data": {
      "text/html": [
       "<div>\n",
       "<style scoped>\n",
       "    .dataframe tbody tr th:only-of-type {\n",
       "        vertical-align: middle;\n",
       "    }\n",
       "\n",
       "    .dataframe tbody tr th {\n",
       "        vertical-align: top;\n",
       "    }\n",
       "\n",
       "    .dataframe thead th {\n",
       "        text-align: right;\n",
       "    }\n",
       "</style>\n",
       "<table border=\"1\" class=\"dataframe\">\n",
       "  <thead>\n",
       "    <tr style=\"text-align: right;\">\n",
       "      <th></th>\n",
       "      <th>SK_ID_CURR</th>\n",
       "      <th>AMT_REQ_CREDIT_BUREAU_WEEK</th>\n",
       "      <th>DAYS_LAST_PHONE_CHANGE</th>\n",
       "      <th>AMT_REQ_CREDIT_BUREAU_YEAR</th>\n",
       "      <th>DAYS_ID_PUBLISH</th>\n",
       "      <th>AMT_REQ_CREDIT_BUREAU_QRT</th>\n",
       "      <th>REGION_RATING_CLIENT</th>\n",
       "      <th>AMT_INCOME_TOTAL</th>\n",
       "      <th>EXT_SOURCE_3</th>\n",
       "      <th>AMT_REQ_CREDIT_BUREAU_DAY</th>\n",
       "      <th>...</th>\n",
       "      <th>REGION_RATING_CLIENT_W_CITY</th>\n",
       "      <th>AMT_ANNUITY</th>\n",
       "      <th>DAYS_REGISTRATION</th>\n",
       "      <th>AMT_GOODS_PRICE</th>\n",
       "      <th>DAYS_BIRTH</th>\n",
       "      <th>AMT_REQ_CREDIT_BUREAU_MON</th>\n",
       "      <th>EXT_SOURCE_1</th>\n",
       "      <th>AMT_REQ_CREDIT_BUREAU_HOUR</th>\n",
       "      <th>REG_CITY_NOT_WORK_CITY</th>\n",
       "      <th>TARGET</th>\n",
       "    </tr>\n",
       "  </thead>\n",
       "  <tbody>\n",
       "    <tr>\n",
       "      <th>count</th>\n",
       "      <td>10000.000000</td>\n",
       "      <td>10000.000000</td>\n",
       "      <td>10000.000000</td>\n",
       "      <td>10000.000000</td>\n",
       "      <td>10000.000000</td>\n",
       "      <td>10000.000000</td>\n",
       "      <td>10000.000000</td>\n",
       "      <td>1.000000e+04</td>\n",
       "      <td>10000.000000</td>\n",
       "      <td>10000.000000</td>\n",
       "      <td>...</td>\n",
       "      <td>10000.000000</td>\n",
       "      <td>10000.000000</td>\n",
       "      <td>10000.000000</td>\n",
       "      <td>1.000000e+04</td>\n",
       "      <td>10000.000000</td>\n",
       "      <td>10000.000000</td>\n",
       "      <td>10000.000000</td>\n",
       "      <td>10000.000000</td>\n",
       "      <td>10000.000000</td>\n",
       "      <td>10000.000000</td>\n",
       "    </tr>\n",
       "    <tr>\n",
       "      <th>mean</th>\n",
       "      <td>197740.295700</td>\n",
       "      <td>0.034600</td>\n",
       "      <td>-1086.094200</td>\n",
       "      <td>1.774600</td>\n",
       "      <td>-3005.436200</td>\n",
       "      <td>0.258700</td>\n",
       "      <td>2.042600</td>\n",
       "      <td>2.032436e+05</td>\n",
       "      <td>0.493867</td>\n",
       "      <td>0.008300</td>\n",
       "      <td>...</td>\n",
       "      <td>2.019700</td>\n",
       "      <td>30423.101850</td>\n",
       "      <td>-4245.333500</td>\n",
       "      <td>6.090174e+05</td>\n",
       "      <td>-14397.554100</td>\n",
       "      <td>0.333000</td>\n",
       "      <td>0.489159</td>\n",
       "      <td>0.007100</td>\n",
       "      <td>0.274500</td>\n",
       "      <td>0.069200</td>\n",
       "    </tr>\n",
       "    <tr>\n",
       "      <th>std</th>\n",
       "      <td>50962.527114</td>\n",
       "      <td>0.207382</td>\n",
       "      <td>855.116442</td>\n",
       "      <td>1.751885</td>\n",
       "      <td>1500.941649</td>\n",
       "      <td>0.598841</td>\n",
       "      <td>0.518857</td>\n",
       "      <td>1.139263e+05</td>\n",
       "      <td>0.195712</td>\n",
       "      <td>0.112394</td>\n",
       "      <td>...</td>\n",
       "      <td>0.514916</td>\n",
       "      <td>15739.577119</td>\n",
       "      <td>3078.529518</td>\n",
       "      <td>4.080772e+05</td>\n",
       "      <td>3604.856091</td>\n",
       "      <td>1.021183</td>\n",
       "      <td>0.206680</td>\n",
       "      <td>0.087466</td>\n",
       "      <td>0.446284</td>\n",
       "      <td>0.253807</td>\n",
       "    </tr>\n",
       "    <tr>\n",
       "      <th>min</th>\n",
       "      <td>130058.000000</td>\n",
       "      <td>0.000000</td>\n",
       "      <td>-4092.000000</td>\n",
       "      <td>0.000000</td>\n",
       "      <td>-6265.000000</td>\n",
       "      <td>0.000000</td>\n",
       "      <td>1.000000</td>\n",
       "      <td>3.375000e+04</td>\n",
       "      <td>0.000527</td>\n",
       "      <td>0.000000</td>\n",
       "      <td>...</td>\n",
       "      <td>1.000000</td>\n",
       "      <td>3163.500000</td>\n",
       "      <td>-22113.000000</td>\n",
       "      <td>4.500000e+04</td>\n",
       "      <td>-25009.000000</td>\n",
       "      <td>0.000000</td>\n",
       "      <td>0.021382</td>\n",
       "      <td>0.000000</td>\n",
       "      <td>0.000000</td>\n",
       "      <td>0.000000</td>\n",
       "    </tr>\n",
       "    <tr>\n",
       "      <th>25%</th>\n",
       "      <td>151358.750000</td>\n",
       "      <td>0.000000</td>\n",
       "      <td>-1714.000000</td>\n",
       "      <td>0.000000</td>\n",
       "      <td>-4310.000000</td>\n",
       "      <td>0.000000</td>\n",
       "      <td>2.000000</td>\n",
       "      <td>1.350000e+05</td>\n",
       "      <td>0.347418</td>\n",
       "      <td>0.000000</td>\n",
       "      <td>...</td>\n",
       "      <td>2.000000</td>\n",
       "      <td>19125.000000</td>\n",
       "      <td>-6322.250000</td>\n",
       "      <td>2.700000e+05</td>\n",
       "      <td>-16690.750000</td>\n",
       "      <td>0.000000</td>\n",
       "      <td>0.325946</td>\n",
       "      <td>0.000000</td>\n",
       "      <td>0.000000</td>\n",
       "      <td>0.000000</td>\n",
       "    </tr>\n",
       "    <tr>\n",
       "      <th>50%</th>\n",
       "      <td>185064.500000</td>\n",
       "      <td>0.000000</td>\n",
       "      <td>-935.000000</td>\n",
       "      <td>1.000000</td>\n",
       "      <td>-3231.000000</td>\n",
       "      <td>0.000000</td>\n",
       "      <td>2.000000</td>\n",
       "      <td>1.800000e+05</td>\n",
       "      <td>0.513694</td>\n",
       "      <td>0.000000</td>\n",
       "      <td>...</td>\n",
       "      <td>2.000000</td>\n",
       "      <td>27652.500000</td>\n",
       "      <td>-3884.000000</td>\n",
       "      <td>4.725000e+05</td>\n",
       "      <td>-13926.500000</td>\n",
       "      <td>0.000000</td>\n",
       "      <td>0.488438</td>\n",
       "      <td>0.000000</td>\n",
       "      <td>0.000000</td>\n",
       "      <td>0.000000</td>\n",
       "    </tr>\n",
       "    <tr>\n",
       "      <th>75%</th>\n",
       "      <td>265019.000000</td>\n",
       "      <td>0.000000</td>\n",
       "      <td>-371.000000</td>\n",
       "      <td>3.000000</td>\n",
       "      <td>-1743.000000</td>\n",
       "      <td>0.000000</td>\n",
       "      <td>2.000000</td>\n",
       "      <td>2.385000e+05</td>\n",
       "      <td>0.652897</td>\n",
       "      <td>0.000000</td>\n",
       "      <td>...</td>\n",
       "      <td>2.000000</td>\n",
       "      <td>38939.625000</td>\n",
       "      <td>-1568.000000</td>\n",
       "      <td>9.000000e+05</td>\n",
       "      <td>-11552.500000</td>\n",
       "      <td>0.000000</td>\n",
       "      <td>0.655012</td>\n",
       "      <td>0.000000</td>\n",
       "      <td>1.000000</td>\n",
       "      <td>0.000000</td>\n",
       "    </tr>\n",
       "    <tr>\n",
       "      <th>max</th>\n",
       "      <td>286304.000000</td>\n",
       "      <td>6.000000</td>\n",
       "      <td>0.000000</td>\n",
       "      <td>17.000000</td>\n",
       "      <td>-1.000000</td>\n",
       "      <td>7.000000</td>\n",
       "      <td>3.000000</td>\n",
       "      <td>2.250000e+06</td>\n",
       "      <td>0.887664</td>\n",
       "      <td>5.000000</td>\n",
       "      <td>...</td>\n",
       "      <td>3.000000</td>\n",
       "      <td>225000.000000</td>\n",
       "      <td>0.000000</td>\n",
       "      <td>2.700000e+06</td>\n",
       "      <td>-7698.000000</td>\n",
       "      <td>16.000000</td>\n",
       "      <td>0.951624</td>\n",
       "      <td>2.000000</td>\n",
       "      <td>1.000000</td>\n",
       "      <td>1.000000</td>\n",
       "    </tr>\n",
       "  </tbody>\n",
       "</table>\n",
       "<p>8 rows × 25 columns</p>\n",
       "</div>"
      ],
      "text/plain": [
       "          SK_ID_CURR  AMT_REQ_CREDIT_BUREAU_WEEK  DAYS_LAST_PHONE_CHANGE  \\\n",
       "count   10000.000000                10000.000000            10000.000000   \n",
       "mean   197740.295700                    0.034600            -1086.094200   \n",
       "std     50962.527114                    0.207382              855.116442   \n",
       "min    130058.000000                    0.000000            -4092.000000   \n",
       "25%    151358.750000                    0.000000            -1714.000000   \n",
       "50%    185064.500000                    0.000000             -935.000000   \n",
       "75%    265019.000000                    0.000000             -371.000000   \n",
       "max    286304.000000                    6.000000                0.000000   \n",
       "\n",
       "       AMT_REQ_CREDIT_BUREAU_YEAR  DAYS_ID_PUBLISH  AMT_REQ_CREDIT_BUREAU_QRT  \\\n",
       "count                10000.000000     10000.000000               10000.000000   \n",
       "mean                     1.774600     -3005.436200                   0.258700   \n",
       "std                      1.751885      1500.941649                   0.598841   \n",
       "min                      0.000000     -6265.000000                   0.000000   \n",
       "25%                      0.000000     -4310.000000                   0.000000   \n",
       "50%                      1.000000     -3231.000000                   0.000000   \n",
       "75%                      3.000000     -1743.000000                   0.000000   \n",
       "max                     17.000000        -1.000000                   7.000000   \n",
       "\n",
       "       REGION_RATING_CLIENT  AMT_INCOME_TOTAL  EXT_SOURCE_3  \\\n",
       "count          10000.000000      1.000000e+04  10000.000000   \n",
       "mean               2.042600      2.032436e+05      0.493867   \n",
       "std                0.518857      1.139263e+05      0.195712   \n",
       "min                1.000000      3.375000e+04      0.000527   \n",
       "25%                2.000000      1.350000e+05      0.347418   \n",
       "50%                2.000000      1.800000e+05      0.513694   \n",
       "75%                2.000000      2.385000e+05      0.652897   \n",
       "max                3.000000      2.250000e+06      0.887664   \n",
       "\n",
       "       AMT_REQ_CREDIT_BUREAU_DAY  ...  REGION_RATING_CLIENT_W_CITY  \\\n",
       "count               10000.000000  ...                 10000.000000   \n",
       "mean                    0.008300  ...                     2.019700   \n",
       "std                     0.112394  ...                     0.514916   \n",
       "min                     0.000000  ...                     1.000000   \n",
       "25%                     0.000000  ...                     2.000000   \n",
       "50%                     0.000000  ...                     2.000000   \n",
       "75%                     0.000000  ...                     2.000000   \n",
       "max                     5.000000  ...                     3.000000   \n",
       "\n",
       "         AMT_ANNUITY  DAYS_REGISTRATION  AMT_GOODS_PRICE    DAYS_BIRTH  \\\n",
       "count   10000.000000       10000.000000     1.000000e+04  10000.000000   \n",
       "mean    30423.101850       -4245.333500     6.090174e+05 -14397.554100   \n",
       "std     15739.577119        3078.529518     4.080772e+05   3604.856091   \n",
       "min      3163.500000      -22113.000000     4.500000e+04 -25009.000000   \n",
       "25%     19125.000000       -6322.250000     2.700000e+05 -16690.750000   \n",
       "50%     27652.500000       -3884.000000     4.725000e+05 -13926.500000   \n",
       "75%     38939.625000       -1568.000000     9.000000e+05 -11552.500000   \n",
       "max    225000.000000           0.000000     2.700000e+06  -7698.000000   \n",
       "\n",
       "       AMT_REQ_CREDIT_BUREAU_MON  EXT_SOURCE_1  AMT_REQ_CREDIT_BUREAU_HOUR  \\\n",
       "count               10000.000000  10000.000000                10000.000000   \n",
       "mean                    0.333000      0.489159                    0.007100   \n",
       "std                     1.021183      0.206680                    0.087466   \n",
       "min                     0.000000      0.021382                    0.000000   \n",
       "25%                     0.000000      0.325946                    0.000000   \n",
       "50%                     0.000000      0.488438                    0.000000   \n",
       "75%                     0.000000      0.655012                    0.000000   \n",
       "max                    16.000000      0.951624                    2.000000   \n",
       "\n",
       "       REG_CITY_NOT_WORK_CITY        TARGET  \n",
       "count            10000.000000  10000.000000  \n",
       "mean                 0.274500      0.069200  \n",
       "std                  0.446284      0.253807  \n",
       "min                  0.000000      0.000000  \n",
       "25%                  0.000000      0.000000  \n",
       "50%                  0.000000      0.000000  \n",
       "75%                  1.000000      0.000000  \n",
       "max                  1.000000      1.000000  \n",
       "\n",
       "[8 rows x 25 columns]"
      ]
     },
     "execution_count": 4,
     "metadata": {},
     "output_type": "execute_result"
    }
   ],
   "source": [
    "cred.describe()"
   ]
  },
  {
   "cell_type": "code",
   "execution_count": 5,
   "id": "77500e0f",
   "metadata": {},
   "outputs": [
    {
     "name": "stdout",
     "output_type": "stream",
     "text": [
      "<class 'pandas.core.frame.DataFrame'>\n",
      "RangeIndex: 10000 entries, 0 to 9999\n",
      "Data columns (total 26 columns):\n",
      " #   Column                       Non-Null Count  Dtype  \n",
      "---  ------                       --------------  -----  \n",
      " 0   SK_ID_CURR                   10000 non-null  int64  \n",
      " 1   AMT_REQ_CREDIT_BUREAU_WEEK   10000 non-null  int64  \n",
      " 2   DAYS_LAST_PHONE_CHANGE       10000 non-null  int64  \n",
      " 3   AMT_REQ_CREDIT_BUREAU_YEAR   10000 non-null  int64  \n",
      " 4   DAYS_ID_PUBLISH              10000 non-null  int64  \n",
      " 5   AMT_REQ_CREDIT_BUREAU_QRT    10000 non-null  int64  \n",
      " 6   REGION_RATING_CLIENT         10000 non-null  int64  \n",
      " 7   AMT_INCOME_TOTAL             10000 non-null  float64\n",
      " 8   EXT_SOURCE_3                 10000 non-null  float64\n",
      " 9   AMT_REQ_CREDIT_BUREAU_DAY    10000 non-null  int64  \n",
      " 10  AMT_CREDIT                   10000 non-null  float64\n",
      " 11  FLAG_EMP_PHONE               10000 non-null  int64  \n",
      " 12  OWN_CAR_AGE                  10000 non-null  int64  \n",
      " 13  DAYS_EMPLOYED                10000 non-null  int64  \n",
      " 14  EXT_SOURCE_2                 10000 non-null  float64\n",
      " 15  REGION_RATING_CLIENT_W_CITY  10000 non-null  int64  \n",
      " 16  AMT_ANNUITY                  10000 non-null  float64\n",
      " 17  DAYS_REGISTRATION            10000 non-null  int64  \n",
      " 18  AMT_GOODS_PRICE              10000 non-null  float64\n",
      " 19  DAYS_BIRTH                   10000 non-null  int64  \n",
      " 20  AMT_REQ_CREDIT_BUREAU_MON    10000 non-null  int64  \n",
      " 21  NAME_INCOME_TYPE             10000 non-null  object \n",
      " 22  EXT_SOURCE_1                 10000 non-null  float64\n",
      " 23  AMT_REQ_CREDIT_BUREAU_HOUR   10000 non-null  int64  \n",
      " 24  REG_CITY_NOT_WORK_CITY       10000 non-null  int64  \n",
      " 25  TARGET                       10000 non-null  int64  \n",
      "dtypes: float64(7), int64(18), object(1)\n",
      "memory usage: 2.0+ MB\n"
     ]
    }
   ],
   "source": [
    "cred.info()"
   ]
  },
  {
   "cell_type": "code",
   "execution_count": 6,
   "id": "884c7903",
   "metadata": {},
   "outputs": [
    {
     "data": {
      "text/plain": [
       "0"
      ]
     },
     "execution_count": 6,
     "metadata": {},
     "output_type": "execute_result"
    }
   ],
   "source": [
    "cred.isna().sum().sum()"
   ]
  },
  {
   "cell_type": "code",
   "execution_count": 7,
   "id": "7b79d60b",
   "metadata": {},
   "outputs": [
    {
     "data": {
      "text/plain": [
       "Index(['SK_ID_CURR', 'AMT_REQ_CREDIT_BUREAU_WEEK', 'DAYS_LAST_PHONE_CHANGE',\n",
       "       'AMT_REQ_CREDIT_BUREAU_YEAR', 'DAYS_ID_PUBLISH',\n",
       "       'AMT_REQ_CREDIT_BUREAU_QRT', 'REGION_RATING_CLIENT', 'AMT_INCOME_TOTAL',\n",
       "       'EXT_SOURCE_3', 'AMT_REQ_CREDIT_BUREAU_DAY', 'AMT_CREDIT',\n",
       "       'FLAG_EMP_PHONE', 'OWN_CAR_AGE', 'DAYS_EMPLOYED', 'EXT_SOURCE_2',\n",
       "       'REGION_RATING_CLIENT_W_CITY', 'AMT_ANNUITY', 'DAYS_REGISTRATION',\n",
       "       'AMT_GOODS_PRICE', 'DAYS_BIRTH', 'AMT_REQ_CREDIT_BUREAU_MON',\n",
       "       'NAME_INCOME_TYPE', 'EXT_SOURCE_1', 'AMT_REQ_CREDIT_BUREAU_HOUR',\n",
       "       'REG_CITY_NOT_WORK_CITY', 'TARGET'],\n",
       "      dtype='object')"
      ]
     },
     "execution_count": 7,
     "metadata": {},
     "output_type": "execute_result"
    }
   ],
   "source": [
    "cred.columns"
   ]
  },
  {
   "cell_type": "code",
   "execution_count": 8,
   "id": "fe830fc7",
   "metadata": {},
   "outputs": [
    {
     "data": {
      "text/plain": [
       "array(['Commercial associate', 'Working', 'Pensioner', 'State servant',\n",
       "       'Businessman'], dtype=object)"
      ]
     },
     "execution_count": 8,
     "metadata": {},
     "output_type": "execute_result"
    }
   ],
   "source": [
    "cred[\"NAME_INCOME_TYPE\"].unique()"
   ]
  },
  {
   "cell_type": "code",
   "execution_count": 9,
   "id": "1d812766",
   "metadata": {},
   "outputs": [],
   "source": [
    "# li = []\n",
    "# for i in cred.columns:\n",
    "#     li.append(cred[i].unique())\n",
    "# li"
   ]
  },
  {
   "cell_type": "code",
   "execution_count": 10,
   "id": "36ab48a2",
   "metadata": {},
   "outputs": [],
   "source": [
    "# plt.figure(figsize =(16,12))\n",
    "# sns.heatmap(cred.corr(),annot=True)"
   ]
  },
  {
   "cell_type": "markdown",
   "id": "04286a80",
   "metadata": {},
   "source": [
    "# Cleaning the dataset"
   ]
  },
  {
   "cell_type": "code",
   "execution_count": 11,
   "id": "c4315224",
   "metadata": {},
   "outputs": [],
   "source": [
    "credit=cred.replace({\"NAME_INCOME_TYPE\":{\"Commercial associate\" : 0, \"Working\" : 1, \"Pensioner\": 2, 'State servant':3, 'Businessman':4}})"
   ]
  },
  {
   "cell_type": "code",
   "execution_count": 12,
   "id": "4ca7ab16",
   "metadata": {},
   "outputs": [
    {
     "data": {
      "text/html": [
       "<div>\n",
       "<style scoped>\n",
       "    .dataframe tbody tr th:only-of-type {\n",
       "        vertical-align: middle;\n",
       "    }\n",
       "\n",
       "    .dataframe tbody tr th {\n",
       "        vertical-align: top;\n",
       "    }\n",
       "\n",
       "    .dataframe thead th {\n",
       "        text-align: right;\n",
       "    }\n",
       "</style>\n",
       "<table border=\"1\" class=\"dataframe\">\n",
       "  <thead>\n",
       "    <tr style=\"text-align: right;\">\n",
       "      <th></th>\n",
       "      <th>SK_ID_CURR</th>\n",
       "      <th>AMT_REQ_CREDIT_BUREAU_WEEK</th>\n",
       "      <th>DAYS_LAST_PHONE_CHANGE</th>\n",
       "      <th>AMT_REQ_CREDIT_BUREAU_YEAR</th>\n",
       "      <th>DAYS_ID_PUBLISH</th>\n",
       "      <th>AMT_REQ_CREDIT_BUREAU_QRT</th>\n",
       "      <th>REGION_RATING_CLIENT</th>\n",
       "      <th>AMT_INCOME_TOTAL</th>\n",
       "      <th>EXT_SOURCE_3</th>\n",
       "      <th>AMT_REQ_CREDIT_BUREAU_DAY</th>\n",
       "      <th>...</th>\n",
       "      <th>AMT_ANNUITY</th>\n",
       "      <th>DAYS_REGISTRATION</th>\n",
       "      <th>AMT_GOODS_PRICE</th>\n",
       "      <th>DAYS_BIRTH</th>\n",
       "      <th>AMT_REQ_CREDIT_BUREAU_MON</th>\n",
       "      <th>NAME_INCOME_TYPE</th>\n",
       "      <th>EXT_SOURCE_1</th>\n",
       "      <th>AMT_REQ_CREDIT_BUREAU_HOUR</th>\n",
       "      <th>REG_CITY_NOT_WORK_CITY</th>\n",
       "      <th>TARGET</th>\n",
       "    </tr>\n",
       "  </thead>\n",
       "  <tbody>\n",
       "    <tr>\n",
       "      <th>0</th>\n",
       "      <td>130058</td>\n",
       "      <td>0</td>\n",
       "      <td>-434</td>\n",
       "      <td>2</td>\n",
       "      <td>-2161</td>\n",
       "      <td>0</td>\n",
       "      <td>2</td>\n",
       "      <td>202500.0</td>\n",
       "      <td>0.733815</td>\n",
       "      <td>0</td>\n",
       "      <td>...</td>\n",
       "      <td>35613.0</td>\n",
       "      <td>-2973</td>\n",
       "      <td>1350000.0</td>\n",
       "      <td>-9503</td>\n",
       "      <td>0</td>\n",
       "      <td>0</td>\n",
       "      <td>0.635151</td>\n",
       "      <td>0</td>\n",
       "      <td>0</td>\n",
       "      <td>0</td>\n",
       "    </tr>\n",
       "    <tr>\n",
       "      <th>1</th>\n",
       "      <td>130059</td>\n",
       "      <td>0</td>\n",
       "      <td>-1610</td>\n",
       "      <td>0</td>\n",
       "      <td>-3818</td>\n",
       "      <td>0</td>\n",
       "      <td>1</td>\n",
       "      <td>135000.0</td>\n",
       "      <td>0.355639</td>\n",
       "      <td>0</td>\n",
       "      <td>...</td>\n",
       "      <td>49900.5</td>\n",
       "      <td>-4709</td>\n",
       "      <td>675000.0</td>\n",
       "      <td>-14652</td>\n",
       "      <td>0</td>\n",
       "      <td>0</td>\n",
       "      <td>0.383777</td>\n",
       "      <td>0</td>\n",
       "      <td>0</td>\n",
       "      <td>0</td>\n",
       "    </tr>\n",
       "    <tr>\n",
       "      <th>2</th>\n",
       "      <td>130068</td>\n",
       "      <td>0</td>\n",
       "      <td>-205</td>\n",
       "      <td>2</td>\n",
       "      <td>-4958</td>\n",
       "      <td>0</td>\n",
       "      <td>2</td>\n",
       "      <td>225000.0</td>\n",
       "      <td>0.231439</td>\n",
       "      <td>0</td>\n",
       "      <td>...</td>\n",
       "      <td>9000.0</td>\n",
       "      <td>-3956</td>\n",
       "      <td>180000.0</td>\n",
       "      <td>-12418</td>\n",
       "      <td>0</td>\n",
       "      <td>0</td>\n",
       "      <td>0.213944</td>\n",
       "      <td>0</td>\n",
       "      <td>1</td>\n",
       "      <td>0</td>\n",
       "    </tr>\n",
       "    <tr>\n",
       "      <th>3</th>\n",
       "      <td>130071</td>\n",
       "      <td>0</td>\n",
       "      <td>-263</td>\n",
       "      <td>3</td>\n",
       "      <td>-1631</td>\n",
       "      <td>0</td>\n",
       "      <td>1</td>\n",
       "      <td>112500.0</td>\n",
       "      <td>0.260856</td>\n",
       "      <td>0</td>\n",
       "      <td>...</td>\n",
       "      <td>13500.0</td>\n",
       "      <td>-7016</td>\n",
       "      <td>270000.0</td>\n",
       "      <td>-12948</td>\n",
       "      <td>0</td>\n",
       "      <td>1</td>\n",
       "      <td>0.565716</td>\n",
       "      <td>0</td>\n",
       "      <td>1</td>\n",
       "      <td>0</td>\n",
       "    </tr>\n",
       "    <tr>\n",
       "      <th>4</th>\n",
       "      <td>130118</td>\n",
       "      <td>0</td>\n",
       "      <td>-2117</td>\n",
       "      <td>0</td>\n",
       "      <td>-3283</td>\n",
       "      <td>0</td>\n",
       "      <td>1</td>\n",
       "      <td>337500.0</td>\n",
       "      <td>0.646330</td>\n",
       "      <td>0</td>\n",
       "      <td>...</td>\n",
       "      <td>54283.5</td>\n",
       "      <td>-7594</td>\n",
       "      <td>1575000.0</td>\n",
       "      <td>-19719</td>\n",
       "      <td>3</td>\n",
       "      <td>2</td>\n",
       "      <td>0.517405</td>\n",
       "      <td>0</td>\n",
       "      <td>0</td>\n",
       "      <td>0</td>\n",
       "    </tr>\n",
       "    <tr>\n",
       "      <th>...</th>\n",
       "      <td>...</td>\n",
       "      <td>...</td>\n",
       "      <td>...</td>\n",
       "      <td>...</td>\n",
       "      <td>...</td>\n",
       "      <td>...</td>\n",
       "      <td>...</td>\n",
       "      <td>...</td>\n",
       "      <td>...</td>\n",
       "      <td>...</td>\n",
       "      <td>...</td>\n",
       "      <td>...</td>\n",
       "      <td>...</td>\n",
       "      <td>...</td>\n",
       "      <td>...</td>\n",
       "      <td>...</td>\n",
       "      <td>...</td>\n",
       "      <td>...</td>\n",
       "      <td>...</td>\n",
       "      <td>...</td>\n",
       "      <td>...</td>\n",
       "    </tr>\n",
       "    <tr>\n",
       "      <th>9995</th>\n",
       "      <td>286290</td>\n",
       "      <td>0</td>\n",
       "      <td>-1436</td>\n",
       "      <td>3</td>\n",
       "      <td>-3980</td>\n",
       "      <td>0</td>\n",
       "      <td>2</td>\n",
       "      <td>450000.0</td>\n",
       "      <td>0.399676</td>\n",
       "      <td>0</td>\n",
       "      <td>...</td>\n",
       "      <td>45000.0</td>\n",
       "      <td>-227</td>\n",
       "      <td>900000.0</td>\n",
       "      <td>-15200</td>\n",
       "      <td>0</td>\n",
       "      <td>0</td>\n",
       "      <td>0.599694</td>\n",
       "      <td>0</td>\n",
       "      <td>0</td>\n",
       "      <td>0</td>\n",
       "    </tr>\n",
       "    <tr>\n",
       "      <th>9996</th>\n",
       "      <td>286291</td>\n",
       "      <td>0</td>\n",
       "      <td>-1863</td>\n",
       "      <td>7</td>\n",
       "      <td>-3432</td>\n",
       "      <td>0</td>\n",
       "      <td>2</td>\n",
       "      <td>270000.0</td>\n",
       "      <td>0.481249</td>\n",
       "      <td>0</td>\n",
       "      <td>...</td>\n",
       "      <td>42205.5</td>\n",
       "      <td>-535</td>\n",
       "      <td>1530000.0</td>\n",
       "      <td>-10846</td>\n",
       "      <td>2</td>\n",
       "      <td>1</td>\n",
       "      <td>0.433261</td>\n",
       "      <td>0</td>\n",
       "      <td>0</td>\n",
       "      <td>1</td>\n",
       "    </tr>\n",
       "    <tr>\n",
       "      <th>9997</th>\n",
       "      <td>286297</td>\n",
       "      <td>0</td>\n",
       "      <td>-1322</td>\n",
       "      <td>2</td>\n",
       "      <td>-1487</td>\n",
       "      <td>0</td>\n",
       "      <td>1</td>\n",
       "      <td>121500.0</td>\n",
       "      <td>0.612704</td>\n",
       "      <td>0</td>\n",
       "      <td>...</td>\n",
       "      <td>25735.5</td>\n",
       "      <td>-3527</td>\n",
       "      <td>666000.0</td>\n",
       "      <td>-14674</td>\n",
       "      <td>0</td>\n",
       "      <td>0</td>\n",
       "      <td>0.590946</td>\n",
       "      <td>0</td>\n",
       "      <td>0</td>\n",
       "      <td>0</td>\n",
       "    </tr>\n",
       "    <tr>\n",
       "      <th>9998</th>\n",
       "      <td>286298</td>\n",
       "      <td>0</td>\n",
       "      <td>-802</td>\n",
       "      <td>0</td>\n",
       "      <td>-3766</td>\n",
       "      <td>0</td>\n",
       "      <td>2</td>\n",
       "      <td>180000.0</td>\n",
       "      <td>0.365617</td>\n",
       "      <td>0</td>\n",
       "      <td>...</td>\n",
       "      <td>9000.0</td>\n",
       "      <td>-1746</td>\n",
       "      <td>180000.0</td>\n",
       "      <td>-11097</td>\n",
       "      <td>0</td>\n",
       "      <td>1</td>\n",
       "      <td>0.724874</td>\n",
       "      <td>0</td>\n",
       "      <td>1</td>\n",
       "      <td>0</td>\n",
       "    </tr>\n",
       "    <tr>\n",
       "      <th>9999</th>\n",
       "      <td>286304</td>\n",
       "      <td>0</td>\n",
       "      <td>-1718</td>\n",
       "      <td>0</td>\n",
       "      <td>-553</td>\n",
       "      <td>0</td>\n",
       "      <td>3</td>\n",
       "      <td>135000.0</td>\n",
       "      <td>0.554947</td>\n",
       "      <td>0</td>\n",
       "      <td>...</td>\n",
       "      <td>22050.0</td>\n",
       "      <td>-3381</td>\n",
       "      <td>463500.0</td>\n",
       "      <td>-16999</td>\n",
       "      <td>5</td>\n",
       "      <td>1</td>\n",
       "      <td>0.448808</td>\n",
       "      <td>0</td>\n",
       "      <td>0</td>\n",
       "      <td>0</td>\n",
       "    </tr>\n",
       "  </tbody>\n",
       "</table>\n",
       "<p>10000 rows × 26 columns</p>\n",
       "</div>"
      ],
      "text/plain": [
       "      SK_ID_CURR  AMT_REQ_CREDIT_BUREAU_WEEK  DAYS_LAST_PHONE_CHANGE  \\\n",
       "0         130058                           0                    -434   \n",
       "1         130059                           0                   -1610   \n",
       "2         130068                           0                    -205   \n",
       "3         130071                           0                    -263   \n",
       "4         130118                           0                   -2117   \n",
       "...          ...                         ...                     ...   \n",
       "9995      286290                           0                   -1436   \n",
       "9996      286291                           0                   -1863   \n",
       "9997      286297                           0                   -1322   \n",
       "9998      286298                           0                    -802   \n",
       "9999      286304                           0                   -1718   \n",
       "\n",
       "      AMT_REQ_CREDIT_BUREAU_YEAR  DAYS_ID_PUBLISH  AMT_REQ_CREDIT_BUREAU_QRT  \\\n",
       "0                              2            -2161                          0   \n",
       "1                              0            -3818                          0   \n",
       "2                              2            -4958                          0   \n",
       "3                              3            -1631                          0   \n",
       "4                              0            -3283                          0   \n",
       "...                          ...              ...                        ...   \n",
       "9995                           3            -3980                          0   \n",
       "9996                           7            -3432                          0   \n",
       "9997                           2            -1487                          0   \n",
       "9998                           0            -3766                          0   \n",
       "9999                           0             -553                          0   \n",
       "\n",
       "      REGION_RATING_CLIENT  AMT_INCOME_TOTAL  EXT_SOURCE_3  \\\n",
       "0                        2          202500.0      0.733815   \n",
       "1                        1          135000.0      0.355639   \n",
       "2                        2          225000.0      0.231439   \n",
       "3                        1          112500.0      0.260856   \n",
       "4                        1          337500.0      0.646330   \n",
       "...                    ...               ...           ...   \n",
       "9995                     2          450000.0      0.399676   \n",
       "9996                     2          270000.0      0.481249   \n",
       "9997                     1          121500.0      0.612704   \n",
       "9998                     2          180000.0      0.365617   \n",
       "9999                     3          135000.0      0.554947   \n",
       "\n",
       "      AMT_REQ_CREDIT_BUREAU_DAY  ...  AMT_ANNUITY  DAYS_REGISTRATION  \\\n",
       "0                             0  ...      35613.0              -2973   \n",
       "1                             0  ...      49900.5              -4709   \n",
       "2                             0  ...       9000.0              -3956   \n",
       "3                             0  ...      13500.0              -7016   \n",
       "4                             0  ...      54283.5              -7594   \n",
       "...                         ...  ...          ...                ...   \n",
       "9995                          0  ...      45000.0               -227   \n",
       "9996                          0  ...      42205.5               -535   \n",
       "9997                          0  ...      25735.5              -3527   \n",
       "9998                          0  ...       9000.0              -1746   \n",
       "9999                          0  ...      22050.0              -3381   \n",
       "\n",
       "      AMT_GOODS_PRICE  DAYS_BIRTH  AMT_REQ_CREDIT_BUREAU_MON  \\\n",
       "0           1350000.0       -9503                          0   \n",
       "1            675000.0      -14652                          0   \n",
       "2            180000.0      -12418                          0   \n",
       "3            270000.0      -12948                          0   \n",
       "4           1575000.0      -19719                          3   \n",
       "...               ...         ...                        ...   \n",
       "9995         900000.0      -15200                          0   \n",
       "9996        1530000.0      -10846                          2   \n",
       "9997         666000.0      -14674                          0   \n",
       "9998         180000.0      -11097                          0   \n",
       "9999         463500.0      -16999                          5   \n",
       "\n",
       "      NAME_INCOME_TYPE  EXT_SOURCE_1  AMT_REQ_CREDIT_BUREAU_HOUR  \\\n",
       "0                    0      0.635151                           0   \n",
       "1                    0      0.383777                           0   \n",
       "2                    0      0.213944                           0   \n",
       "3                    1      0.565716                           0   \n",
       "4                    2      0.517405                           0   \n",
       "...                ...           ...                         ...   \n",
       "9995                 0      0.599694                           0   \n",
       "9996                 1      0.433261                           0   \n",
       "9997                 0      0.590946                           0   \n",
       "9998                 1      0.724874                           0   \n",
       "9999                 1      0.448808                           0   \n",
       "\n",
       "      REG_CITY_NOT_WORK_CITY  TARGET  \n",
       "0                          0       0  \n",
       "1                          0       0  \n",
       "2                          1       0  \n",
       "3                          1       0  \n",
       "4                          0       0  \n",
       "...                      ...     ...  \n",
       "9995                       0       0  \n",
       "9996                       0       1  \n",
       "9997                       0       0  \n",
       "9998                       1       0  \n",
       "9999                       0       0  \n",
       "\n",
       "[10000 rows x 26 columns]"
      ]
     },
     "execution_count": 12,
     "metadata": {},
     "output_type": "execute_result"
    }
   ],
   "source": [
    "credit"
   ]
  },
  {
   "cell_type": "markdown",
   "id": "b79291a3",
   "metadata": {},
   "source": [
    "# Defining features and the response"
   ]
  },
  {
   "cell_type": "code",
   "execution_count": 13,
   "id": "f3f1ee8c",
   "metadata": {},
   "outputs": [],
   "source": [
    "X = credit.drop(['SK_ID_CURR', 'TARGET'], axis=1)\n",
    "y = credit[\"TARGET\"]"
   ]
  },
  {
   "cell_type": "markdown",
   "id": "5f773e45",
   "metadata": {},
   "source": [
    "## Task 1\n",
    "\n",
    "Build a classifier that gives more priority to false negatives over false positives. The\n",
    "level of priority can be a knob and is left to the user’s choice."
   ]
  },
  {
   "cell_type": "markdown",
   "id": "28af52cc",
   "metadata": {},
   "source": [
    "# Split the dataset into training and testing sets"
   ]
  },
  {
   "cell_type": "code",
   "execution_count": 14,
   "id": "01a00349",
   "metadata": {},
   "outputs": [],
   "source": [
    "from sklearn.model_selection import train_test_split\n",
    "X_train, X_test, y_train, y_test = train_test_split(X, y, test_size=0.20, random_state=0)"
   ]
  },
  {
   "cell_type": "code",
   "execution_count": 15,
   "id": "90b9ccff",
   "metadata": {},
   "outputs": [],
   "source": [
    "#(y_test == 1).sum(),(y_test == 0).sum()"
   ]
  },
  {
   "cell_type": "markdown",
   "id": "3dfa7d33",
   "metadata": {},
   "source": [
    "# Normalizing the data for numerical stability"
   ]
  },
  {
   "cell_type": "code",
   "execution_count": 16,
   "id": "a08295ae",
   "metadata": {},
   "outputs": [],
   "source": [
    "from sklearn.preprocessing import StandardScaler\n",
    "scale_train = StandardScaler()\n",
    "X_train = scale_train.fit_transform(X_train)\n",
    "\n",
    "scale_test = StandardScaler()\n",
    "X_test = scale_test.fit_transform(X_test)"
   ]
  },
  {
   "cell_type": "markdown",
   "id": "f1c8e6b8",
   "metadata": {},
   "source": [
    "# Fitting a logistic regression model to the training data"
   ]
  },
  {
   "cell_type": "code",
   "execution_count": 17,
   "id": "5f9a34c4",
   "metadata": {},
   "outputs": [
    {
     "data": {
      "text/plain": [
       "LogisticRegression()"
      ]
     },
     "execution_count": 17,
     "metadata": {},
     "output_type": "execute_result"
    }
   ],
   "source": [
    "from sklearn.linear_model import LogisticRegression\n",
    "model = LogisticRegression()\n",
    "model.fit(X_train, y_train)"
   ]
  },
  {
   "cell_type": "markdown",
   "id": "c1a744a4",
   "metadata": {},
   "source": [
    "## Making predictions on the testing data"
   ]
  },
  {
   "cell_type": "code",
   "execution_count": 18,
   "id": "0a134b54",
   "metadata": {},
   "outputs": [],
   "source": [
    "# SETTING THE DISCREMINATION THRESHOLD TO MAKE FALSE NEGATIVE OUR PRIORETY\n",
    "#(We want to have few false negatives despite the cost of increasing the number of false positives)\n",
    "\n",
    "disC_t = 0.05\n",
    "predictions = model.predict_proba(X_test)\n",
    "\n",
    "predictions = (predictions[::,1] > disC_t)*1"
   ]
  },
  {
   "cell_type": "markdown",
   "id": "96f67c7f",
   "metadata": {},
   "source": [
    "## Calculating the accuracy, recall,precision and F1 scores including the cfussion matrix of the model prediction"
   ]
  },
  {
   "cell_type": "code",
   "execution_count": 19,
   "id": "962d8175",
   "metadata": {},
   "outputs": [
    {
     "name": "stdout",
     "output_type": "stream",
     "text": [
      "True Positive(TP)  =  121\n",
      "False Positive(FP) =  819\n",
      "True Negative(TN)  =  1037\n",
      "False Negative(FN) =  23\n"
     ]
    }
   ],
   "source": [
    "cmd = confusion_matrix(y_test, predictions)\n",
    "\n",
    "TN, FP, FN, TP = cmd.ravel()\n",
    "\n",
    "print('True Positive(TP)  = ', TP)\n",
    "print('False Positive(FP) = ', FP)\n",
    "print('True Negative(TN)  = ', TN)\n",
    "print('False Negative(FN) = ', FN)"
   ]
  },
  {
   "cell_type": "markdown",
   "id": "a2446660",
   "metadata": {},
   "source": [
    "## Calculating the accuracy, recall,precision and F1 scores including the cfussion matrix of the model prediction"
   ]
  },
  {
   "cell_type": "code",
   "execution_count": 20,
   "id": "2fefacca",
   "metadata": {},
   "outputs": [
    {
     "name": "stdout",
     "output_type": "stream",
     "text": [
      "The precision score is: 0.13\n",
      "The recall score is: 0.84\n",
      "Accuracy score is: 0.58\n",
      "The F1 score is: 0.22\n"
     ]
    }
   ],
   "source": [
    "print(\"The precision score is: %.2f\" % precision_score( y_test, predictions))\n",
    "print(\"The recall score is: %.2f\" % recall_score( y_test, predictions))\n",
    "print(\"Accuracy score is: %.2f\" % accuracy_score( y_test, predictions))\n",
    "print(\"The F1 score is: %.2f\" % f1_score( y_test, predictions))"
   ]
  },
  {
   "cell_type": "code",
   "execution_count": 21,
   "id": "c3208a2e",
   "metadata": {},
   "outputs": [
    {
     "data": {
      "image/png": "[encoded data removed]",
      "text/plain": [
       "<Figure size 216x216 with 2 Axes>"
      ]
     },
     "metadata": {
      "needs_background": "light"
     },
     "output_type": "display_data"
    }
   ],
   "source": [
    "plt.figure(figsize = (3,3))\n",
    "sns.heatmap(cmd, annot=True, annot_kws={\"size\": 25}, fmt=\"d\", cmap=\"viridis\", cbar=True)\n",
    "plt.show()"
   ]
  },
  {
   "cell_type": "markdown",
   "id": "9b2f1c09",
   "metadata": {},
   "source": [
    "This trade off may be preferable because false negatives would allow clints with \"all other\" to go through and be classified as \"clints with payment difficulties\", whereas false positives may cause \"clints with payment difficults\" be classified as \"all others\" in which the clints can challenge the decision without any cost implication."
   ]
  },
  {
   "cell_type": "markdown",
   "id": "9d0b723f",
   "metadata": {},
   "source": [
    "## Plot of precision_recall_curve"
   ]
  },
  {
   "cell_type": "code",
   "execution_count": 22,
   "id": "613f2f60",
   "metadata": {},
   "outputs": [
    {
     "data": {
      "image/png": "[encoded data removed]",
      "text/plain": [
       "<Figure size 432x288 with 1 Axes>"
      ]
     },
     "metadata": {
      "needs_background": "light"
     },
     "output_type": "display_data"
    }
   ],
   "source": [
    "from sklearn.metrics import precision_recall_curve\n",
    "#calculate precision and recall\n",
    "precision, recall, thresholds = precision_recall_curve(y_test, predictions)\n",
    "\n",
    "#create precision recall curve\n",
    "fig, ax = plt.subplots()\n",
    "ax.plot(recall, precision, color='purple')\n",
    "\n",
    "#add axis labels to plot\n",
    "ax.set_title('Precision-Recall Curve')\n",
    "ax.set_ylabel('Precision')\n",
    "ax.set_xlabel('Recall')\n",
    "\n",
    "#display plot\n",
    "plt.show()"
   ]
  },
  {
   "cell_type": "markdown",
   "id": "738935b5",
   "metadata": {},
   "source": [
    "### Task 2\n",
    "\n",
    "Suppose a firm is trying to optimize (maximize) its revenue, which is dependent on the number of false positives and negatives from classification (consequence of the classifier). \n",
    "\n",
    "Say, the revenue is of the form:\n",
    "\n",
    "$$Revenue = 10000 − 10 × False Negatives − 3 × False Positives$$\n",
    "\n",
    "Build a classifier that helps with the above task."
   ]
  },
  {
   "cell_type": "markdown",
   "id": "762baec8",
   "metadata": {},
   "source": [
    "## Building Random Forest Classifier"
   ]
  },
  {
   "cell_type": "code",
   "execution_count": 23,
   "id": "8e0db36d",
   "metadata": {},
   "outputs": [
    {
     "data": {
      "text/plain": [
       "RandomForestClassifier()"
      ]
     },
     "execution_count": 23,
     "metadata": {},
     "output_type": "execute_result"
    }
   ],
   "source": [
    "from sklearn.ensemble import RandomForestClassifier\n",
    "RFmodel = RandomForestClassifier()\n",
    "RFmodel.fit(X_train, y_train)"
   ]
  },
  {
   "cell_type": "markdown",
   "id": "23524af8",
   "metadata": {},
   "source": [
    "## Making predictions on the testing data"
   ]
  },
  {
   "cell_type": "code",
   "execution_count": 24,
   "id": "a5fb0de6",
   "metadata": {},
   "outputs": [],
   "source": [
    "RFpredictions = RFmodel.predict(X_test)"
   ]
  },
  {
   "cell_type": "code",
   "execution_count": 25,
   "id": "0ae69ed8",
   "metadata": {},
   "outputs": [],
   "source": [
    "# SETTING THE DISCREMINATION THRESHOLD TO BALANCE THE FALSE NEGATIVE AND FALSE POSITIVE\n",
    "#(We want to have few false negatives despite the cost of increasing the number of false positives)\n",
    "\n",
    "dis_t = 0.1\n",
    "RFpredict_D = RFmodel.predict_proba(X_test)\n",
    "\n",
    "predict = (RFpredict_D[::,1] > dis_t)*1"
   ]
  },
  {
   "cell_type": "code",
   "execution_count": 26,
   "id": "1f8a6f34",
   "metadata": {},
   "outputs": [
    {
     "name": "stdout",
     "output_type": "stream",
     "text": [
      "True Positive(TP)  =  91\n",
      "False Positive(FP) =  614\n",
      "True Negative(TN)  =  1242\n",
      "False Negative(FN) =  53\n"
     ]
    }
   ],
   "source": [
    "RFcmdd = confusion_matrix(y_test, predict)\n",
    "\n",
    "TN, FP, FN, TP = RFcmdd.ravel()\n",
    "\n",
    "print('True Positive(TP)  = ', TP)\n",
    "print('False Positive(FP) = ', FP)\n",
    "print('True Negative(TN)  = ', TN)\n",
    "print('False Negative(FN) = ', FN)"
   ]
  },
  {
   "cell_type": "code",
   "execution_count": 27,
   "id": "1b5eb632",
   "metadata": {},
   "outputs": [
    {
     "name": "stdout",
     "output_type": "stream",
     "text": [
      "The precision score is: 0.13\n",
      "The recall score is: 0.63\n",
      "Accuracy score is: 0.67\n",
      "The F1 score is: 0.21\n"
     ]
    }
   ],
   "source": [
    "print(\"The precision score is: %.2f\" % precision_score( y_test, predict))\n",
    "print(\"The recall score is: %.2f\" % recall_score( y_test, predict))\n",
    "print(\"Accuracy score is: %.2f\" % accuracy_score( y_test, predict))\n",
    "print(\"The F1 score is: %.2f\" % f1_score( y_test, predict))"
   ]
  },
  {
   "cell_type": "code",
   "execution_count": 28,
   "id": "014ef908",
   "metadata": {},
   "outputs": [
    {
     "data": {
      "image/png": "[encoded data removed]",
      "text/plain": [
       "<Figure size 216x216 with 2 Axes>"
      ]
     },
     "metadata": {
      "needs_background": "light"
     },
     "output_type": "display_data"
    }
   ],
   "source": [
    "plt.figure(figsize = (3,3))\n",
    "sns.heatmap(RFcmdd, annot=True, annot_kws={\"size\": 25}, fmt=\"d\", cmap=\"viridis\", cbar=True)\n",
    "plt.show()"
   ]
  },
  {
   "cell_type": "markdown",
   "id": "34bb63e0",
   "metadata": {},
   "source": [
    "A false negative (all others missed) may have a financial cost on both the user and the institution, while a false positive ( clints with payment difficults incorrectly flagged as all others) may also decrease user happiness. Therefore, the balance between false negative and false positive is required."
   ]
  },
  {
   "cell_type": "markdown",
   "id": "dc7a9a96",
   "metadata": {},
   "source": [
    "## Plot of precision_recall_curve"
   ]
  },
  {
   "cell_type": "code",
   "execution_count": 29,
   "id": "6a4e29eb",
   "metadata": {},
   "outputs": [
    {
     "data": {
      "image/png": "[encoded data removed]",
      "text/plain": [
       "<Figure size 432x288 with 1 Axes>"
      ]
     },
     "metadata": {
      "needs_background": "light"
     },
     "output_type": "display_data"
    }
   ],
   "source": [
    "#calculate precision and recall\n",
    "precision, recall, thresholds = precision_recall_curve(y_test, predict)\n",
    "\n",
    "#create precision recall curve\n",
    "fig, ax = plt.subplots()\n",
    "ax.plot(recall, precision, color='purple')\n",
    "\n",
    "#add axis labels to plot\n",
    "ax.set_title('Precision-Recall Curve')\n",
    "ax.set_ylabel('Precision')\n",
    "ax.set_xlabel('Recall')\n",
    "\n",
    "#display plot\n",
    "plt.show()"
   ]
  },
  {
   "cell_type": "code",
   "execution_count": 30,
   "id": "b8b7ccd1",
   "metadata": {},
   "outputs": [
    {
     "name": "stdout",
     "output_type": "stream",
     "text": [
      "Optimized Revenue =  7628\n"
     ]
    }
   ],
   "source": [
    "Revenue = 10000 - 10 * FN - 3 * FP\n",
    "print('Optimized Revenue = ', Revenue)"
   ]
  },
  {
   "cell_type": "markdown",
   "id": "c17c9319",
   "metadata": {},
   "source": [
    "## Task 3 (Non-coding)\n",
    "\n",
    " Suppose you are asked to remove a few columns from the above data (features) to help with speedup. Which columns would be your preference and why?"
   ]
  },
  {
   "cell_type": "markdown",
   "id": "694282f4",
   "metadata": {},
   "source": [
    "## Columns:\n",
    "'SK_ID_CURR', 'AMT_REQ_CREDIT_BUREAU_WEEK', 'DAYS_LAST_PHONE_CHANGE',\n",
    "       'AMT_REQ_CREDIT_BUREAU_YEAR', 'DAYS_ID_PUBLISH',\n",
    "       'AMT_REQ_CREDIT_BUREAU_QRT', 'REGION_RATING_CLIENT', 'AMT_INCOME_TOTAL',\n",
    "       'EXT_SOURCE_3', 'AMT_REQ_CREDIT_BUREAU_DAY', 'AMT_CREDIT',\n",
    "       'FLAG_EMP_PHONE', 'OWN_CAR_AGE', 'DAYS_EMPLOYED', 'EXT_SOURCE_2',\n",
    "       'REGION_RATING_CLIENT_W_CITY', 'AMT_ANNUITY', 'DAYS_REGISTRATION',\n",
    "       'AMT_GOODS_PRICE', 'DAYS_BIRTH', 'AMT_REQ_CREDIT_BUREAU_MON',\n",
    "       'NAME_INCOME_TYPE', 'EXT_SOURCE_1', 'AMT_REQ_CREDIT_BUREAU_HOUR',\n",
    "       'REG_CITY_NOT_WORK_CITY', 'TARGET'"
   ]
  },
  {
   "cell_type": "markdown",
   "id": "193dbcff",
   "metadata": {},
   "source": [
    "## My preference would be:\n",
    "1. SK_ID_CURR: Because it has nothing to contribute to the decision of the model (it is just for sample identification)\n",
    "2. AMT_GOODS_PRICE: Because it is most likely to be equal to the amount of the loan credited (AMT_CREDIT) , both features will be highly correlated.  \n",
    "3. OWN_CAR_AGE: Because age of client's car might not necessary to have anything to do with the decision classes \n",
    "4. EXT_SOURCE_2 and EXT_SOURCE_1: Because Normalized score from external data source might not necessary cotributing to the decision of our model.\n",
    "5. DAYS_BIRTH: Client's age in days at the time of application many not necessary impact the decision to a large extent."
   ]
  }
 ],
 "metadata": {
  "kernelspec": {
   "display_name": "Python 3 (ipykernel)",
   "language": "python",
   "name": "python3"
  },
  "language_info": {
   "codemirror_mode": {
    "name": "ipython",
    "version": 3
   },
   "file_extension": ".py",
   "mimetype": "text/x-python",
   "name": "python",
   "nbconvert_exporter": "python",
   "pygments_lexer": "ipython3",
   "version": "3.9.7"
  }
 },
 "nbformat": 4,
 "nbformat_minor": 5
}
